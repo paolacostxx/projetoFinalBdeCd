{
  "nbformat": 4,
  "nbformat_minor": 0,
  "metadata": {
    "colab": {
      "provenance": [],
      "include_colab_link": true
    },
    "kernelspec": {
      "name": "python3",
      "display_name": "Python 3"
    },
    "language_info": {
      "name": "python"
    }
  },
  "cells": [
    {
      "cell_type": "markdown",
      "metadata": {
        "id": "view-in-github",
        "colab_type": "text"
      },
      "source": [
        "<a href=\"https://colab.research.google.com/github/paolacostxx/projetoFinalBdeCd/blob/Cd/glamour.ipynb\" target=\"_parent\"><img src=\"https://colab.research.google.com/assets/colab-badge.svg\" alt=\"Open In Colab\"/></a>"
      ]
    },
    {
      "cell_type": "code",
      "source": [
        "import sqlite3\n",
        "\n",
        "# Cria ou abre o banco glamour.db\n",
        "conn = sqlite3.connect(\"glamour.db\")\n",
        "cursor = conn.cursor()\n",
        "\n",
        "cursor.execute(\"PRAGMA foreign_keys = ON;\")\n",
        "\n",
        "print(\"Feito.\")"
      ],
      "metadata": {
        "colab": {
          "base_uri": "https://localhost:8080/"
        },
        "id": "qsZF_ckVP04T",
        "outputId": "83a874e5-389a-4218-8b69-501410708e93"
      },
      "execution_count": 36,
      "outputs": [
        {
          "output_type": "stream",
          "name": "stdout",
          "text": [
            "Feito.\n"
          ]
        }
      ]
    },
    {
      "cell_type": "code",
      "source": [
        "sql_script = \"\"\"\n",
        "-- Tabela Cliente\n",
        "CREATE TABLE Cliente (\n",
        "    cliente_id INTEGER PRIMARY KEY AUTOINCREMENT,\n",
        "    nome TEXT NOT NULL,\n",
        "    telefone TEXT\n",
        ");\n",
        "\n",
        "-- Tabela ClientePF\n",
        "CREATE TABLE ClientePF (\n",
        "    cliente_id INTEGER PRIMARY KEY,\n",
        "    cpf TEXT NOT NULL,\n",
        "    dataNasc DATE,\n",
        "    FOREIGN KEY (cliente_id) REFERENCES Cliente(cliente_id)\n",
        ");\n",
        "\n",
        "-- Tabela ClientePJ\n",
        "CREATE TABLE ClientePJ (\n",
        "    cliente_id INTEGER PRIMARY KEY,\n",
        "    cnpj TEXT NOT NULL,\n",
        "    FOREIGN KEY (cliente_id) REFERENCES Cliente(cliente_id)\n",
        ");\n",
        "\n",
        "-- Tabela Funcionário\n",
        "CREATE TABLE Funcionario (\n",
        "    funcionario_id INTEGER PRIMARY KEY AUTOINCREMENT,\n",
        "    nome TEXT NOT NULL,\n",
        "    documento TEXT UNIQUE NOT NULL,\n",
        "    telefone TEXT,\n",
        "    cargo TEXT,\n",
        "    especialidade TEXT,\n",
        "    dataNasc DATE\n",
        ");\n",
        "\n",
        "-- Tabela Serviço\n",
        "CREATE TABLE Servico (\n",
        "    servico_id INTEGER PRIMARY KEY AUTOINCREMENT,\n",
        "    nomeServico TEXT NOT NULL,\n",
        "    descricao TEXT,\n",
        "    preco REAL NOT NULL\n",
        ");\n",
        "\n",
        "-- Tabela Agendamento\n",
        "CREATE TABLE Agendamento (\n",
        "    agendamento_id INTEGER PRIMARY KEY AUTOINCREMENT,\n",
        "    dataHora TEXT NOT NULL,\n",
        "    cli_id INTEGER NOT NULL,\n",
        "    funcionario_id INTEGER NOT NULL,\n",
        "    status TEXT,\n",
        "    FOREIGN KEY (cli_id) REFERENCES Cliente(cliente_id)\n",
        "        ON DELETE CASCADE ON UPDATE CASCADE,\n",
        "    FOREIGN KEY (funcionario_id) REFERENCES Funcionario(funcionario_id)\n",
        "        ON DELETE CASCADE ON UPDATE CASCADE\n",
        ");\n",
        "\"\"\"\n",
        "print(\"Tabelas criadas com sucesso.\")\n"
      ],
      "metadata": {
        "id": "TirC3CJb14JZ",
        "colab": {
          "base_uri": "https://localhost:8080/"
        },
        "outputId": "f9b561f7-09c8-4bda-ca66-5f6b9bcaa5b1"
      },
      "execution_count": 26,
      "outputs": [
        {
          "output_type": "stream",
          "name": "stdout",
          "text": [
            "Tabelas criadas com sucesso.\n"
          ]
        }
      ]
    },
    {
      "cell_type": "code",
      "source": [
        "dados_script = \"\"\"\n",
        "-- Clientes\n",
        "INSERT INTO Cliente (cliente_id, nome, telefone) VALUES\n",
        "(1, 'Amanda Silva', '(11) 91234-5678'),\n",
        "(2, 'Bruna Costa', '(11) 99876-5432'),\n",
        "(3, 'Estética Glamour LTDA', '(11) 3344-5566'),\n",
        "(4, 'Carla Mendes', '(11) 93456-7788'),\n",
        "(5, 'Fernanda Lima', '(11) 98765-4321'),\n",
        "(6, 'Studio Bela Forma ME', '(11) 4002-8922'),\n",
        "(7, 'Isabela Moura', '(11) 93333-1111');\n",
        "\n",
        "-- Cliente PF\n",
        "INSERT INTO ClientePF (cliente_id, cpf, dataNasc) VALUES\n",
        "(1, '12345678901', '1995-03-21'),\n",
        "(2, '98765432100', '1989-07-15'),\n",
        "(4, '45612378900', '1992-04-12'),\n",
        "(5, '78945612355', '1990-11-09'),\n",
        "(7, '11223344556', '1993-05-05');\n",
        "\n",
        "-- Cliente PJ\n",
        "INSERT INTO ClientePJ (cliente_id, cnpj) VALUES\n",
        "(3, '12345678000199'),\n",
        "(6, '45678912000177');\n",
        "\n",
        "-- Funcionários\n",
        "INSERT INTO Funcionario (nome, documento, telefone, cargo, especialidade, dataNasc) VALUES\n",
        "('Juliana Melo', '98765432110', '(11) 91234-0001', 'Especialista', 'Unhas de Gel', '1990-01-15'),\n",
        "('Camila Rocha', '12345678999', '(11) 93456-1122', 'Designer', 'Cílios', '1992-09-23'),\n",
        "('Larissa Martins', '10293847566', '(11) 97777-8888', 'Designer', 'Sobrancelha', '1988-12-11');\n",
        "\n",
        "-- Serviços\n",
        "INSERT INTO Servico (nomeServico, descricao, preco) VALUES\n",
        "('Unhas de Gel', 'Aplicação de unhas de gel com acabamento profissional.', 120.00),\n",
        "('Extensão de Cílios', 'Alongamento fio a fio com efeito natural.', 150.00),\n",
        "('Design de Sobrancelha', 'Modelagem com pinça e henna.', 60.00);\n",
        "\n",
        "\n",
        "\"\"\"\n",
        "\n",
        "print(\"Dados inseridos com sucesso.\")\n"
      ],
      "metadata": {
        "colab": {
          "base_uri": "https://localhost:8080/"
        },
        "id": "GHtqmb-qBwM-",
        "outputId": "152d5dd1-91f2-4c00-e1da-2799aae04633"
      },
      "execution_count": 27,
      "outputs": [
        {
          "output_type": "stream",
          "name": "stdout",
          "text": [
            "Dados inseridos com sucesso.\n"
          ]
        }
      ]
    },
    {
      "cell_type": "code",
      "source": [
        "dados_script = \"\"\"\n",
        "INSERT INTO Agendamento (id_cliente, id_funcionario, id_servico, data_hora, status) VALUES (3, 2, 2, '2025-06-07 14:30:00', 'Agendado');\n",
        "INSERT INTO Agendamento (id_cliente, id_funcionario, id_servico, data_hora, status) VALUES (5, 1, 3, '2025-06-10 09:00:00', 'Concluído');\n",
        "INSERT INTO Agendamento (id_cliente, id_funcionario, id_servico, data_hora, status) VALUES (2, 3, 1, '2025-06-15 17:45:00', 'Cancelado');\n",
        "INSERT INTO Agendamento (id_cliente, id_funcionario, id_servico, data_hora, status) VALUES (6, 2, 3, '2025-06-20 11:15:00', 'Agendado');\n",
        "INSERT INTO Agendamento (id_cliente, id_funcionario, id_servico, data_hora, status) VALUES (4, 1, 2, '2025-06-24 08:00:00', 'Concluído');\n",
        "INSERT INTO Agendamento (id_cliente, id_funcionario, id_servico, data_hora, status) VALUES (7, 3, 1, '2025-06-28 16:30:00', 'Cancelado');\n",
        "\n",
        "INSERT INTO Agendamento (id_cliente, id_funcionario, id_servico, data_hora, status) VALUES (1, 2, 3, '2025-07-02 10:45:00', 'Agendado');\n",
        "INSERT INTO Agendamento (id_cliente, id_funcionario, id_servico, data_hora, status) VALUES (5, 3, 2, '2025-07-05 13:00:00', 'Concluído');\n",
        "INSERT INTO Agendamento (id_cliente, id_funcionario, id_servico, data_hora, status) VALUES (3, 1, 1, '2025-07-09 09:15:00', 'Agendado');\n",
        "INSERT INTO Agendamento (id_cliente, id_funcionario, id_servico, data_hora, status) VALUES (6, 3, 3, '2025-07-14 14:00:00', 'Cancelado');\n",
        "INSERT INTO Agendamento (id_cliente, id_funcionario, id_servico, data_hora, status) VALUES (2, 2, 2, '2025-07-20 15:45:00', 'Concluído');\n",
        "INSERT INTO Agendamento (id_cliente, id_funcionario, id_servico, data_hora, status) VALUES (4, 1, 1, '2025-07-25 11:30:00', 'Agendado');\n",
        "\n",
        "INSERT INTO Agendamento (id_cliente, id_funcionario, id_servico, data_hora, status) VALUES (7, 2, 2, '2025-08-01 08:30:00', 'Cancelado');\n",
        "INSERT INTO Agendamento (id_cliente, id_funcionario, id_servico, data_hora, status) VALUES (1, 3, 3, '2025-08-05 14:15:00', 'Agendado');\n",
        "INSERT INTO Agendamento (id_cliente, id_funcionario, id_servico, data_hora, status) VALUES (5, 2, 1, '2025-08-10 09:00:00', 'Concluído');\n",
        "INSERT INTO Agendamento (id_cliente, id_funcionario, id_servico, data_hora, status) VALUES (3, 1, 2, '2025-08-15 16:00:00', 'Cancelado');\n",
        "INSERT INTO Agendamento (id_cliente, id_funcionario, id_servico, data_hora, status) VALUES (6, 2, 3, '2025-08-19 10:30:00', 'Concluído');\n",
        "INSERT INTO Agendamento (id_cliente, id_funcionario, id_servico, data_hora, status) VALUES (2, 3, 2, '2025-08-25 13:45:00', 'Agendado');\n",
        "\"\"\"\n",
        "print(\"Agendados.\")"
      ],
      "metadata": {
        "colab": {
          "base_uri": "https://localhost:8080/"
        },
        "id": "uAfA5sgJK5y6",
        "outputId": "21073fde-0c47-407e-bc64-eadf326a962b"
      },
      "execution_count": 28,
      "outputs": [
        {
          "output_type": "stream",
          "name": "stdout",
          "text": [
            "Agendados.\n"
          ]
        }
      ]
    },
    {
      "cell_type": "code",
      "source": [
        "import pandas as pd\n",
        "import numpy as np\n",
        "import matplotlib.pyplot as plt\n",
        "import seaborn as sns\n",
        "from scipy.stats import pearsonr\n",
        "\n",
        "\n",
        "\n",
        "# Dados simulados do salão\n",
        "servicos = pd.DataFrame({\n",
        "    'nomeServico': ['Unhas de Gel', 'Extensão de Cílios', 'Design de Sobrancelha'],\n",
        "    'preco': [120.00, 150.00, 60.00]\n",
        "})\n",
        "\n",
        "clientes = pd.DataFrame({\n",
        "    'cliente_id': [1, 2, 4, 5, 7],\n",
        "    'nome': ['Amanda Silva', 'Bruna Costa', 'Carla Mendes', 'Fernanda Lima', 'Isabela Moura'],\n",
        "    'dataNasc': pd.to_datetime(['1995-03-21', '1989-07-15', '1992-04-12', '1990-11-09', '1993-05-05'])\n",
        "})\n",
        "\n"
      ],
      "metadata": {
        "id": "Gg-_YXPLdQFO"
      },
      "execution_count": 29,
      "outputs": []
    },
    {
      "cell_type": "code",
      "source": [
        "import pandas as pd\n",
        "import numpy as np\n",
        "import matplotlib.pyplot as plt\n",
        "import seaborn as sns\n",
        "from scipy.stats import pearsonr\n",
        "\n",
        "\n",
        "\n",
        "# Dados simulados do salão\n",
        "servicos = pd.DataFrame({\n",
        "    'nomeServico': ['Unhas de Gel', 'Extensão de Cílios', 'Design de Sobrancelha'],\n",
        "    'preco': [120.00, 150.00, 60.00]\n",
        "})\n",
        "\n",
        "clientes = pd.DataFrame({\n",
        "    'cliente_id': [1, 2, 4, 5, 7],\n",
        "    'nome': ['Amanda Silva', 'Bruna Costa', 'Carla Mendes', 'Fernanda Lima', 'Isabela Moura'],\n",
        "    'dataNasc': pd.to_datetime(['1995-03-21', '1989-07-15', '1992-04-12', '1990-11-09', '1993-05-05'])\n",
        "})\n",
        "\n",
        "# Calcular idade dos clientes\n",
        "hoje = pd.to_datetime(\"2025-06-17\")\n",
        "clientes['idade'] = (hoje - clientes['dataNasc']).dt.days // 365\n",
        "\n",
        "\n"
      ],
      "metadata": {
        "id": "2fE6yptUhBeA"
      },
      "execution_count": 30,
      "outputs": []
    },
    {
      "cell_type": "code",
      "source": [
        "import pandas as pd\n",
        "import numpy as np\n",
        "import matplotlib.pyplot as plt\n",
        "import seaborn as sns\n",
        "from scipy.stats import pearsonr\n",
        "\n",
        "\n",
        "\n",
        "# Dados simulados do salão\n",
        "servicos = pd.DataFrame({\n",
        "    'nomeServico': ['Unhas de Gel', 'Extensão de Cílios', 'Design de Sobrancelha'],\n",
        "    'preco': [120.00, 150.00, 60.00]\n",
        "})\n",
        "\n",
        "clientes = pd.DataFrame({\n",
        "    'cliente_id': [1, 2, 4, 5, 7],\n",
        "    'nome': ['Amanda Silva', 'Bruna Costa', 'Carla Mendes', 'Fernanda Lima', 'Isabela Moura'],\n",
        "    'dataNasc': pd.to_datetime(['1995-03-21', '1989-07-15', '1992-04-12', '1990-11-09', '1993-05-05'])\n",
        "})\n",
        "\n",
        "# Calcular idade dos clientes\n",
        "hoje = pd.to_datetime(\"2025-06-17\")\n",
        "clientes['idade'] = (hoje - clientes['dataNasc']).dt.days // 365\n",
        "\n",
        "# Dados de agendamento para 3 meses\n",
        "agendamentos = pd.DataFrame({\n",
        "    'agendamento_id': range(1, 11),\n",
        "    'cliente_id': [1, 2, 1, 4, 5, 2, 7, 4, 1, 5],\n",
        "    'servico': ['Unhas de Gel', 'Extensão de Cílios', 'Design de Sobrancelha', 'Unhas de Gel',\n",
        "                'Extensão de Cílios', 'Unhas de Gel', 'Design de Sobrancelha', 'Design de Sobrancelha',\n",
        "                'Extensão de Cílios', 'Unhas de Gel'],\n",
        "    'dataHora': pd.date_range(start=\"2025-06-01\", periods=10, freq='7D'),\n",
        "    'status': ['Concluído', 'Cancelado', 'Agendado', 'Concluído', 'Agendado',\n",
        "               'Concluído', 'Agendado', 'Concluído', 'Cancelado', 'Concluído']\n",
        "})\n",
        "\n"
      ],
      "metadata": {
        "id": "fGWOepgphO6K"
      },
      "execution_count": 31,
      "outputs": []
    },
    {
      "cell_type": "code",
      "source": [
        "# === 1. Escalas de Medição ===\n",
        "print(\" Escalas de Medição\")\n",
        "print(\"\"\"\n",
        "- Nominal: nome do serviço, status\n",
        "- Ordinal: status do agendamento (Agendado < Concluído < Cancelado)\n",
        "- Intervalar: data de nascimento\n",
        "- Razão: idade, preço, quantidade de agendamentos\n",
        "\"\"\")\n",
        "\n",
        "import pandas as pd\n",
        "\n",
        "# Dados simulando clientes e agendamentos\n",
        "dados = {\n",
        "    'nome_cliente': ['Amanda', 'Bruna', 'Carlos', 'Daniela', 'Eduardo'],  # Nominal\n",
        "    'status_agendamento': ['Agendado', 'Concluído', 'Cancelado', 'Concluído', 'Agendado'],  # Ordinal\n",
        "    'data_nascimento': ['1990-05-10', '1985-08-20', '2000-12-15', '1995-03-30', '1988-07-01'],  # Intervalar\n",
        "    'idade': [34, 39, 24, 29, 36],  # Razão\n",
        "    'preco_servico': [120.0, 80.0, 150.0, 200.0, 90.0],  # Razão\n",
        "    'qtd_agendamentos': [5, 8, 2, 10, 6]  # Razão\n",
        "}\n",
        "\n",
        "# Criar DataFrame\n",
        "df = pd.DataFrame(dados)\n",
        "\n",
        "# Converter coluna de datas para o tipo datetime\n",
        "df['data_nascimento'] = pd.to_datetime(df['data_nascimento'])\n",
        "\n",
        "# Exibir tabela\n",
        "print(\"Tabela com diferentes escalas de medição:\")\n",
        "df\n",
        "\n"
      ],
      "metadata": {
        "colab": {
          "base_uri": "https://localhost:8080/",
          "height": 350
        },
        "id": "KgfVRfc1hdvc",
        "outputId": "f9db7bf9-2490-442f-fb8a-48f17e45d93a"
      },
      "execution_count": 32,
      "outputs": [
        {
          "output_type": "stream",
          "name": "stdout",
          "text": [
            " Escalas de Medição\n",
            "\n",
            "- Nominal: nome do serviço, status\n",
            "- Ordinal: status do agendamento (Agendado < Concluído < Cancelado)\n",
            "- Intervalar: data de nascimento\n",
            "- Razão: idade, preço, quantidade de agendamentos\n",
            "\n",
            "Tabela com diferentes escalas de medição:\n"
          ]
        },
        {
          "output_type": "execute_result",
          "data": {
            "text/plain": [
              "  nome_cliente status_agendamento data_nascimento  idade  preco_servico  \\\n",
              "0       Amanda           Agendado      1990-05-10     34          120.0   \n",
              "1        Bruna          Concluído      1985-08-20     39           80.0   \n",
              "2       Carlos          Cancelado      2000-12-15     24          150.0   \n",
              "3      Daniela          Concluído      1995-03-30     29          200.0   \n",
              "4      Eduardo           Agendado      1988-07-01     36           90.0   \n",
              "\n",
              "   qtd_agendamentos  \n",
              "0                 5  \n",
              "1                 8  \n",
              "2                 2  \n",
              "3                10  \n",
              "4                 6  "
            ],
            "text/html": [
              "\n",
              "  <div id=\"df-514b6c45-ea54-46e7-ba8e-91548abf8d6d\" class=\"colab-df-container\">\n",
              "    <div>\n",
              "<style scoped>\n",
              "    .dataframe tbody tr th:only-of-type {\n",
              "        vertical-align: middle;\n",
              "    }\n",
              "\n",
              "    .dataframe tbody tr th {\n",
              "        vertical-align: top;\n",
              "    }\n",
              "\n",
              "    .dataframe thead th {\n",
              "        text-align: right;\n",
              "    }\n",
              "</style>\n",
              "<table border=\"1\" class=\"dataframe\">\n",
              "  <thead>\n",
              "    <tr style=\"text-align: right;\">\n",
              "      <th></th>\n",
              "      <th>nome_cliente</th>\n",
              "      <th>status_agendamento</th>\n",
              "      <th>data_nascimento</th>\n",
              "      <th>idade</th>\n",
              "      <th>preco_servico</th>\n",
              "      <th>qtd_agendamentos</th>\n",
              "    </tr>\n",
              "  </thead>\n",
              "  <tbody>\n",
              "    <tr>\n",
              "      <th>0</th>\n",
              "      <td>Amanda</td>\n",
              "      <td>Agendado</td>\n",
              "      <td>1990-05-10</td>\n",
              "      <td>34</td>\n",
              "      <td>120.0</td>\n",
              "      <td>5</td>\n",
              "    </tr>\n",
              "    <tr>\n",
              "      <th>1</th>\n",
              "      <td>Bruna</td>\n",
              "      <td>Concluído</td>\n",
              "      <td>1985-08-20</td>\n",
              "      <td>39</td>\n",
              "      <td>80.0</td>\n",
              "      <td>8</td>\n",
              "    </tr>\n",
              "    <tr>\n",
              "      <th>2</th>\n",
              "      <td>Carlos</td>\n",
              "      <td>Cancelado</td>\n",
              "      <td>2000-12-15</td>\n",
              "      <td>24</td>\n",
              "      <td>150.0</td>\n",
              "      <td>2</td>\n",
              "    </tr>\n",
              "    <tr>\n",
              "      <th>3</th>\n",
              "      <td>Daniela</td>\n",
              "      <td>Concluído</td>\n",
              "      <td>1995-03-30</td>\n",
              "      <td>29</td>\n",
              "      <td>200.0</td>\n",
              "      <td>10</td>\n",
              "    </tr>\n",
              "    <tr>\n",
              "      <th>4</th>\n",
              "      <td>Eduardo</td>\n",
              "      <td>Agendado</td>\n",
              "      <td>1988-07-01</td>\n",
              "      <td>36</td>\n",
              "      <td>90.0</td>\n",
              "      <td>6</td>\n",
              "    </tr>\n",
              "  </tbody>\n",
              "</table>\n",
              "</div>\n",
              "    <div class=\"colab-df-buttons\">\n",
              "\n",
              "  <div class=\"colab-df-container\">\n",
              "    <button class=\"colab-df-convert\" onclick=\"convertToInteractive('df-514b6c45-ea54-46e7-ba8e-91548abf8d6d')\"\n",
              "            title=\"Convert this dataframe to an interactive table.\"\n",
              "            style=\"display:none;\">\n",
              "\n",
              "  <svg xmlns=\"http://www.w3.org/2000/svg\" height=\"24px\" viewBox=\"0 -960 960 960\">\n",
              "    <path d=\"M120-120v-720h720v720H120Zm60-500h600v-160H180v160Zm220 220h160v-160H400v160Zm0 220h160v-160H400v160ZM180-400h160v-160H180v160Zm440 0h160v-160H620v160ZM180-180h160v-160H180v160Zm440 0h160v-160H620v160Z\"/>\n",
              "  </svg>\n",
              "    </button>\n",
              "\n",
              "  <style>\n",
              "    .colab-df-container {\n",
              "      display:flex;\n",
              "      gap: 12px;\n",
              "    }\n",
              "\n",
              "    .colab-df-convert {\n",
              "      background-color: #E8F0FE;\n",
              "      border: none;\n",
              "      border-radius: 50%;\n",
              "      cursor: pointer;\n",
              "      display: none;\n",
              "      fill: #1967D2;\n",
              "      height: 32px;\n",
              "      padding: 0 0 0 0;\n",
              "      width: 32px;\n",
              "    }\n",
              "\n",
              "    .colab-df-convert:hover {\n",
              "      background-color: #E2EBFA;\n",
              "      box-shadow: 0px 1px 2px rgba(60, 64, 67, 0.3), 0px 1px 3px 1px rgba(60, 64, 67, 0.15);\n",
              "      fill: #174EA6;\n",
              "    }\n",
              "\n",
              "    .colab-df-buttons div {\n",
              "      margin-bottom: 4px;\n",
              "    }\n",
              "\n",
              "    [theme=dark] .colab-df-convert {\n",
              "      background-color: #3B4455;\n",
              "      fill: #D2E3FC;\n",
              "    }\n",
              "\n",
              "    [theme=dark] .colab-df-convert:hover {\n",
              "      background-color: #434B5C;\n",
              "      box-shadow: 0px 1px 3px 1px rgba(0, 0, 0, 0.15);\n",
              "      filter: drop-shadow(0px 1px 2px rgba(0, 0, 0, 0.3));\n",
              "      fill: #FFFFFF;\n",
              "    }\n",
              "  </style>\n",
              "\n",
              "    <script>\n",
              "      const buttonEl =\n",
              "        document.querySelector('#df-514b6c45-ea54-46e7-ba8e-91548abf8d6d button.colab-df-convert');\n",
              "      buttonEl.style.display =\n",
              "        google.colab.kernel.accessAllowed ? 'block' : 'none';\n",
              "\n",
              "      async function convertToInteractive(key) {\n",
              "        const element = document.querySelector('#df-514b6c45-ea54-46e7-ba8e-91548abf8d6d');\n",
              "        const dataTable =\n",
              "          await google.colab.kernel.invokeFunction('convertToInteractive',\n",
              "                                                    [key], {});\n",
              "        if (!dataTable) return;\n",
              "\n",
              "        const docLinkHtml = 'Like what you see? Visit the ' +\n",
              "          '<a target=\"_blank\" href=https://colab.research.google.com/notebooks/data_table.ipynb>data table notebook</a>'\n",
              "          + ' to learn more about interactive tables.';\n",
              "        element.innerHTML = '';\n",
              "        dataTable['output_type'] = 'display_data';\n",
              "        await google.colab.output.renderOutput(dataTable, element);\n",
              "        const docLink = document.createElement('div');\n",
              "        docLink.innerHTML = docLinkHtml;\n",
              "        element.appendChild(docLink);\n",
              "      }\n",
              "    </script>\n",
              "  </div>\n",
              "\n",
              "\n",
              "    <div id=\"df-c2a56fb3-29b9-480e-aff6-2964733fc6e6\">\n",
              "      <button class=\"colab-df-quickchart\" onclick=\"quickchart('df-c2a56fb3-29b9-480e-aff6-2964733fc6e6')\"\n",
              "                title=\"Suggest charts\"\n",
              "                style=\"display:none;\">\n",
              "\n",
              "<svg xmlns=\"http://www.w3.org/2000/svg\" height=\"24px\"viewBox=\"0 0 24 24\"\n",
              "     width=\"24px\">\n",
              "    <g>\n",
              "        <path d=\"M19 3H5c-1.1 0-2 .9-2 2v14c0 1.1.9 2 2 2h14c1.1 0 2-.9 2-2V5c0-1.1-.9-2-2-2zM9 17H7v-7h2v7zm4 0h-2V7h2v10zm4 0h-2v-4h2v4z\"/>\n",
              "    </g>\n",
              "</svg>\n",
              "      </button>\n",
              "\n",
              "<style>\n",
              "  .colab-df-quickchart {\n",
              "      --bg-color: #E8F0FE;\n",
              "      --fill-color: #1967D2;\n",
              "      --hover-bg-color: #E2EBFA;\n",
              "      --hover-fill-color: #174EA6;\n",
              "      --disabled-fill-color: #AAA;\n",
              "      --disabled-bg-color: #DDD;\n",
              "  }\n",
              "\n",
              "  [theme=dark] .colab-df-quickchart {\n",
              "      --bg-color: #3B4455;\n",
              "      --fill-color: #D2E3FC;\n",
              "      --hover-bg-color: #434B5C;\n",
              "      --hover-fill-color: #FFFFFF;\n",
              "      --disabled-bg-color: #3B4455;\n",
              "      --disabled-fill-color: #666;\n",
              "  }\n",
              "\n",
              "  .colab-df-quickchart {\n",
              "    background-color: var(--bg-color);\n",
              "    border: none;\n",
              "    border-radius: 50%;\n",
              "    cursor: pointer;\n",
              "    display: none;\n",
              "    fill: var(--fill-color);\n",
              "    height: 32px;\n",
              "    padding: 0;\n",
              "    width: 32px;\n",
              "  }\n",
              "\n",
              "  .colab-df-quickchart:hover {\n",
              "    background-color: var(--hover-bg-color);\n",
              "    box-shadow: 0 1px 2px rgba(60, 64, 67, 0.3), 0 1px 3px 1px rgba(60, 64, 67, 0.15);\n",
              "    fill: var(--button-hover-fill-color);\n",
              "  }\n",
              "\n",
              "  .colab-df-quickchart-complete:disabled,\n",
              "  .colab-df-quickchart-complete:disabled:hover {\n",
              "    background-color: var(--disabled-bg-color);\n",
              "    fill: var(--disabled-fill-color);\n",
              "    box-shadow: none;\n",
              "  }\n",
              "\n",
              "  .colab-df-spinner {\n",
              "    border: 2px solid var(--fill-color);\n",
              "    border-color: transparent;\n",
              "    border-bottom-color: var(--fill-color);\n",
              "    animation:\n",
              "      spin 1s steps(1) infinite;\n",
              "  }\n",
              "\n",
              "  @keyframes spin {\n",
              "    0% {\n",
              "      border-color: transparent;\n",
              "      border-bottom-color: var(--fill-color);\n",
              "      border-left-color: var(--fill-color);\n",
              "    }\n",
              "    20% {\n",
              "      border-color: transparent;\n",
              "      border-left-color: var(--fill-color);\n",
              "      border-top-color: var(--fill-color);\n",
              "    }\n",
              "    30% {\n",
              "      border-color: transparent;\n",
              "      border-left-color: var(--fill-color);\n",
              "      border-top-color: var(--fill-color);\n",
              "      border-right-color: var(--fill-color);\n",
              "    }\n",
              "    40% {\n",
              "      border-color: transparent;\n",
              "      border-right-color: var(--fill-color);\n",
              "      border-top-color: var(--fill-color);\n",
              "    }\n",
              "    60% {\n",
              "      border-color: transparent;\n",
              "      border-right-color: var(--fill-color);\n",
              "    }\n",
              "    80% {\n",
              "      border-color: transparent;\n",
              "      border-right-color: var(--fill-color);\n",
              "      border-bottom-color: var(--fill-color);\n",
              "    }\n",
              "    90% {\n",
              "      border-color: transparent;\n",
              "      border-bottom-color: var(--fill-color);\n",
              "    }\n",
              "  }\n",
              "</style>\n",
              "\n",
              "      <script>\n",
              "        async function quickchart(key) {\n",
              "          const quickchartButtonEl =\n",
              "            document.querySelector('#' + key + ' button');\n",
              "          quickchartButtonEl.disabled = true;  // To prevent multiple clicks.\n",
              "          quickchartButtonEl.classList.add('colab-df-spinner');\n",
              "          try {\n",
              "            const charts = await google.colab.kernel.invokeFunction(\n",
              "                'suggestCharts', [key], {});\n",
              "          } catch (error) {\n",
              "            console.error('Error during call to suggestCharts:', error);\n",
              "          }\n",
              "          quickchartButtonEl.classList.remove('colab-df-spinner');\n",
              "          quickchartButtonEl.classList.add('colab-df-quickchart-complete');\n",
              "        }\n",
              "        (() => {\n",
              "          let quickchartButtonEl =\n",
              "            document.querySelector('#df-c2a56fb3-29b9-480e-aff6-2964733fc6e6 button');\n",
              "          quickchartButtonEl.style.display =\n",
              "            google.colab.kernel.accessAllowed ? 'block' : 'none';\n",
              "        })();\n",
              "      </script>\n",
              "    </div>\n",
              "\n",
              "  <div id=\"id_49c400f3-5db9-49d2-a3eb-5515b75a7283\">\n",
              "    <style>\n",
              "      .colab-df-generate {\n",
              "        background-color: #E8F0FE;\n",
              "        border: none;\n",
              "        border-radius: 50%;\n",
              "        cursor: pointer;\n",
              "        display: none;\n",
              "        fill: #1967D2;\n",
              "        height: 32px;\n",
              "        padding: 0 0 0 0;\n",
              "        width: 32px;\n",
              "      }\n",
              "\n",
              "      .colab-df-generate:hover {\n",
              "        background-color: #E2EBFA;\n",
              "        box-shadow: 0px 1px 2px rgba(60, 64, 67, 0.3), 0px 1px 3px 1px rgba(60, 64, 67, 0.15);\n",
              "        fill: #174EA6;\n",
              "      }\n",
              "\n",
              "      [theme=dark] .colab-df-generate {\n",
              "        background-color: #3B4455;\n",
              "        fill: #D2E3FC;\n",
              "      }\n",
              "\n",
              "      [theme=dark] .colab-df-generate:hover {\n",
              "        background-color: #434B5C;\n",
              "        box-shadow: 0px 1px 3px 1px rgba(0, 0, 0, 0.15);\n",
              "        filter: drop-shadow(0px 1px 2px rgba(0, 0, 0, 0.3));\n",
              "        fill: #FFFFFF;\n",
              "      }\n",
              "    </style>\n",
              "    <button class=\"colab-df-generate\" onclick=\"generateWithVariable('df')\"\n",
              "            title=\"Generate code using this dataframe.\"\n",
              "            style=\"display:none;\">\n",
              "\n",
              "  <svg xmlns=\"http://www.w3.org/2000/svg\" height=\"24px\"viewBox=\"0 0 24 24\"\n",
              "       width=\"24px\">\n",
              "    <path d=\"M7,19H8.4L18.45,9,17,7.55,7,17.6ZM5,21V16.75L18.45,3.32a2,2,0,0,1,2.83,0l1.4,1.43a1.91,1.91,0,0,1,.58,1.4,1.91,1.91,0,0,1-.58,1.4L9.25,21ZM18.45,9,17,7.55Zm-12,3A5.31,5.31,0,0,0,4.9,8.1,5.31,5.31,0,0,0,1,6.5,5.31,5.31,0,0,0,4.9,4.9,5.31,5.31,0,0,0,6.5,1,5.31,5.31,0,0,0,8.1,4.9,5.31,5.31,0,0,0,12,6.5,5.46,5.46,0,0,0,6.5,12Z\"/>\n",
              "  </svg>\n",
              "    </button>\n",
              "    <script>\n",
              "      (() => {\n",
              "      const buttonEl =\n",
              "        document.querySelector('#id_49c400f3-5db9-49d2-a3eb-5515b75a7283 button.colab-df-generate');\n",
              "      buttonEl.style.display =\n",
              "        google.colab.kernel.accessAllowed ? 'block' : 'none';\n",
              "\n",
              "      buttonEl.onclick = () => {\n",
              "        google.colab.notebook.generateWithVariable('df');\n",
              "      }\n",
              "      })();\n",
              "    </script>\n",
              "  </div>\n",
              "\n",
              "    </div>\n",
              "  </div>\n"
            ],
            "application/vnd.google.colaboratory.intrinsic+json": {
              "type": "dataframe",
              "variable_name": "df",
              "summary": "{\n  \"name\": \"df\",\n  \"rows\": 5,\n  \"fields\": [\n    {\n      \"column\": \"nome_cliente\",\n      \"properties\": {\n        \"dtype\": \"string\",\n        \"num_unique_values\": 5,\n        \"samples\": [\n          \"Bruna\",\n          \"Eduardo\",\n          \"Carlos\"\n        ],\n        \"semantic_type\": \"\",\n        \"description\": \"\"\n      }\n    },\n    {\n      \"column\": \"status_agendamento\",\n      \"properties\": {\n        \"dtype\": \"string\",\n        \"num_unique_values\": 3,\n        \"samples\": [\n          \"Agendado\",\n          \"Conclu\\u00eddo\",\n          \"Cancelado\"\n        ],\n        \"semantic_type\": \"\",\n        \"description\": \"\"\n      }\n    },\n    {\n      \"column\": \"data_nascimento\",\n      \"properties\": {\n        \"dtype\": \"date\",\n        \"min\": \"1985-08-20 00:00:00\",\n        \"max\": \"2000-12-15 00:00:00\",\n        \"num_unique_values\": 5,\n        \"samples\": [\n          \"1985-08-20 00:00:00\",\n          \"1988-07-01 00:00:00\",\n          \"2000-12-15 00:00:00\"\n        ],\n        \"semantic_type\": \"\",\n        \"description\": \"\"\n      }\n    },\n    {\n      \"column\": \"idade\",\n      \"properties\": {\n        \"dtype\": \"number\",\n        \"std\": 5,\n        \"min\": 24,\n        \"max\": 39,\n        \"num_unique_values\": 5,\n        \"samples\": [\n          39,\n          36,\n          24\n        ],\n        \"semantic_type\": \"\",\n        \"description\": \"\"\n      }\n    },\n    {\n      \"column\": \"preco_servico\",\n      \"properties\": {\n        \"dtype\": \"number\",\n        \"std\": 48.68264577855234,\n        \"min\": 80.0,\n        \"max\": 200.0,\n        \"num_unique_values\": 5,\n        \"samples\": [\n          80.0,\n          90.0,\n          150.0\n        ],\n        \"semantic_type\": \"\",\n        \"description\": \"\"\n      }\n    },\n    {\n      \"column\": \"qtd_agendamentos\",\n      \"properties\": {\n        \"dtype\": \"number\",\n        \"std\": 3,\n        \"min\": 2,\n        \"max\": 10,\n        \"num_unique_values\": 5,\n        \"samples\": [\n          8,\n          6,\n          2\n        ],\n        \"semantic_type\": \"\",\n        \"description\": \"\"\n      }\n    }\n  ]\n}"
            }
          },
          "metadata": {},
          "execution_count": 32
        }
      ]
    },
    {
      "cell_type": "code",
      "source": [
        "# === 2. Tendência Central (preços dos serviços) ===\n",
        "print(\"\\n Tendência Central (Preços dos Serviços)\")\n",
        "print(\"Média:\", servicos['preco'].mean())\n",
        "print(\"Mediana:\", servicos['preco'].median())\n",
        "print(\"Moda:\", servicos['preco'].mode()[0])\n",
        "\n",
        "\n",
        "\n",
        "# Pizza - Status dos agendamentos\n",
        "status_counts = agendamentos['status'].value_counts()\n",
        "plt.figure(figsize=(6, 6))\n",
        "plt.pie(status_counts, labels=status_counts.index, autopct='%1.1f%%', startangle=90)\n",
        "plt.title('Distribuição dos Status de Agendamento')\n",
        "plt.axis('equal')\n",
        "plt.show()"
      ],
      "metadata": {
        "id": "HYmsJBA914fq",
        "colab": {
          "base_uri": "https://localhost:8080/",
          "height": 611
        },
        "outputId": "16d3a261-e536-47a9-9fe6-4a27cd02dffa"
      },
      "execution_count": 37,
      "outputs": [
        {
          "output_type": "stream",
          "name": "stdout",
          "text": [
            "\n",
            " Tendência Central (Preços dos Serviços)\n",
            "Média: 110.0\n",
            "Mediana: 120.0\n",
            "Moda: 60.0\n"
          ]
        },
        {
          "output_type": "display_data",
          "data": {
            "text/plain": [
              "<Figure size 600x600 with 1 Axes>"
            ],
            "image/png": "[encoded data removed]"
          },
          "metadata": {}
        }
      ]
    },
    {
      "cell_type": "code",
      "source": [
        "\n",
        "# === 3. Dispersão ===\n",
        "precos = servicos['preco']\n",
        "print(\"\\n Medidas de Dispersão\")\n",
        "print(\"Amplitude:\", precos.max() - precos.min())\n",
        "print(\"Variância:\", precos.var())\n",
        "print(\"Desvio Padrão:\", precos.std())\n",
        "\n",
        "# Boxplot - Preço dos serviços\n",
        "plt.figure(figsize=(6, 5))\n",
        "sns.boxplot(y=servicos['preco'])\n",
        "plt.title('Boxplot dos Preços dos Serviços')\n",
        "plt.ylabel('Preço (R$)')\n",
        "plt.grid(True)\n",
        "plt.show()\n"
      ],
      "metadata": {
        "colab": {
          "base_uri": "https://localhost:8080/",
          "height": 539
        },
        "id": "2xt9vlqcP4dN",
        "outputId": "a00407c0-3f41-4756-daac-f38a55add6a1"
      },
      "execution_count": 34,
      "outputs": [
        {
          "output_type": "stream",
          "name": "stdout",
          "text": [
            "\n",
            " Medidas de Dispersão\n",
            "Amplitude: 90.0\n",
            "Variância: 2100.0\n",
            "Desvio Padrão: 45.8257569495584\n"
          ]
        },
        {
          "output_type": "display_data",
          "data": {
            "text/plain": [
              "<Figure size 600x500 with 1 Axes>"
            ],
            "image/png": "[encoded data removed]"
          },
          "metadata": {}
        }
      ]
    },
    {
      "cell_type": "code",
      "source": [
        "# === 4. Correlação idade x agendamentos ===\n",
        "freq_agendamentos = agendamentos['cliente_id'].value_counts().sort_index()\n",
        "clientes['agendamentos'] = clientes['cliente_id'].map(freq_agendamentos).fillna(0).astype(int)\n",
        "\n",
        "correlacao, _ = pearsonr(clientes['idade'], clientes['agendamentos'])\n",
        "print(\"\\n Correlação entre idade e agendamentos (Pearson):\", correlacao)\n"
      ],
      "metadata": {
        "id": "3r5e1YVPR5Uo",
        "colab": {
          "base_uri": "https://localhost:8080/"
        },
        "outputId": "df8b36f2-5b60-48a9-8e43-6ce218c88ebb"
      },
      "execution_count": 38,
      "outputs": [
        {
          "output_type": "stream",
          "name": "stdout",
          "text": [
            "\n",
            " Correlação entre idade e agendamentos (Pearson): -0.3676073110469039\n"
          ]
        }
      ]
    },
    {
      "cell_type": "code",
      "source": [
        "# === 5. Visualizações ===\n",
        "\n",
        "# Histograma - Agendamentos por cliente\n",
        "plt.figure(figsize=(8, 5))\n",
        "clientes['agendamentos'].hist(bins=range(1, clientes['agendamentos'].max()+2), rwidth=0.8)\n",
        "plt.title('Histograma de Agendamentos por Cliente')\n",
        "plt.xlabel('Número de Agendamentos')\n",
        "plt.ylabel('Quantidade de Clientes')\n",
        "plt.grid(True)\n",
        "plt.show()"
      ],
      "metadata": {
        "colab": {
          "base_uri": "https://localhost:8080/",
          "height": 488
        },
        "id": "5moISilHQVBr",
        "outputId": "4d8a4707-85dc-4233-eb6b-e11d9976e90d"
      },
      "execution_count": 23,
      "outputs": [
        {
          "output_type": "display_data",
          "data": {
            "text/plain": [
              "<Figure size 800x500 with 1 Axes>"
            ],
            "image/png": "[encoded data removed]"
          },
          "metadata": {}
        }
      ]
    },
    {
      "cell_type": "code",
      "source": [
        "\n",
        "# === 6. Séries Temporais ===\n",
        "agendamentos_por_data = agendamentos.groupby('dataHora').size()\n",
        "plt.figure(figsize=(10, 5))\n",
        "agendamentos_por_data.plot(marker='o')\n",
        "plt.title('Evolução dos Agendamentos por Data')\n",
        "plt.xlabel('Data')\n",
        "plt.ylabel('Quantidade de Agendamentos')\n",
        "plt.grid(True)\n",
        "plt.xticks(rotation=45)\n",
        "plt.tight_layout()\n",
        "plt.show()"
      ],
      "metadata": {
        "colab": {
          "base_uri": "https://localhost:8080/",
          "height": 507
        },
        "id": "Zyq-d88BQm97",
        "outputId": "5562f1d2-d9d1-4988-d83e-51bca1f04c83"
      },
      "execution_count": 24,
      "outputs": [
        {
          "output_type": "display_data",
          "data": {
            "text/plain": [
              "<Figure size 1000x500 with 1 Axes>"
            ],
            "image/png": "[encoded data removed]"
          },
          "metadata": {}
        }
      ]
    }
  ]
}